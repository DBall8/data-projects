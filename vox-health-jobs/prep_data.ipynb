{
 "cells": [
  {
   "cell_type": "code",
   "execution_count": 1,
   "metadata": {
    "collapsed": true
   },
   "outputs": [],
   "source": [
    "import weightedcalcs as wc\n",
    "import pandas as pd\n",
    "import math\n",
    "import numpy as np"
   ]
  },
  {
   "cell_type": "code",
   "execution_count": 2,
   "metadata": {},
   "outputs": [],
   "source": [
    "cps = pd.read_csv('data/cps_00009.csv')\n",
    "\n",
    "cps.drop(['SERIAL','HWTSUPP', 'CPSID', 'ASECFLAG','HFLAG','MONTH','PERNUM','CPSIDP'], \n",
    "         axis=1, \n",
    "         inplace=True)\n",
    "\n",
    "workers = cps.query('INCWAGE != 9999999 and INCWAGE ! = 9999998 and INCWAGE > 0 and OCC2010 != 9920 and OCC2010 != 9999')\n",
    "\n",
    "def industry_1990_group(row):\n",
    "    ind = row['IND1990']\n",
    "    if 10 <= ind <= 32 : return 1\n",
    "    elif 40 <= ind <= 50 : return 2\n",
    "    elif 60 <= ind <= 60 : return 3\n",
    "    elif 100 <= ind <= 392 : return 4\n",
    "    elif 400 <= ind <= 432 : return 5\n",
    "    elif 440 <= ind <= 442 : return 6\n",
    "    elif 450 <= ind <= 472 : return 7\n",
    "    elif 500 <= ind <= 571 : return 8\n",
    "    elif 580 <= ind <= 691 : return 9\n",
    "    elif 700 <= ind <= 712 : return 10\n",
    "    elif 721 <= ind <= 760 : return 11\n",
    "    elif 761 <= ind <= 791 : return 12\n",
    "    elif 800 <= ind <= 810 : return 13\n",
    "    elif 812 <= ind <= 840 : return 14\n",
    "    elif ind == 841 : return 15\n",
    "    elif 842 <= ind <= 860 : return 16\n",
    "    elif 861 <= ind <= 893 : return 17\n",
    "    elif 900 <= ind <= 932 : return 18\n",
    "    elif 940 <= ind <= 960 : return 19\n",
    "    elif ind == 998 : return 0\n",
    "    else: return 0\n",
    "    \n",
    "workers = workers.assign(IND_1990_GROUP = workers.apply(industry_1990_group, axis=1) )"
   ]
  },
  {
   "cell_type": "code",
   "execution_count": 3,
   "metadata": {
    "collapsed": true
   },
   "outputs": [],
   "source": [
    "def occ_2010_group(row):\n",
    "    # https://cps.ipums.org/cps-action/variables/OCC2010#description_section\n",
    "    occ = row['OCC2010']\n",
    "    if 10 <= occ <= 430: return 1\n",
    "    elif 500 <= occ <= 730: return 2\n",
    "    elif 800 <= occ <= 950: return 3\n",
    "    elif 1000 <= occ <= 1240: return 4\n",
    "    elif 1300 <= occ <= 1540: return 5\n",
    "    elif 1550 <= occ <= 1560: return 6\n",
    "    elif 1600 <= occ <= 1980: return 7\n",
    "    elif 2000 <= occ <= 2060: return 8\n",
    "    elif 2100 <= occ <= 2150: return 9\n",
    "    elif 2200 <= occ <= 2550: return 10\n",
    "    elif 2600 <= occ <= 2920: return 11\n",
    "    elif 3000 <= occ <= 3540: return 12\n",
    "    elif 3600 <= occ <= 3650: return 13\n",
    "    elif 3700 <= occ <= 3950: return 14\n",
    "    elif 4000 <= occ <= 4150: return 15\n",
    "    elif 4200 <= occ <= 4250: return 16\n",
    "    elif 4300 <= occ <= 4650: return 17\n",
    "    elif 4700 <= occ <= 4965: return 18\n",
    "    elif 5000 <= occ <= 5940: return 19\n",
    "    elif 6005 <= occ <= 6130: return 20\n",
    "    elif 6200 <= occ <= 6765: return 21\n",
    "    elif 6800 <= occ <= 6940: return 22\n",
    "    elif 7000 <= occ <= 7630: return 23\n",
    "    elif 7700 <= occ <= 8965: return 24\n",
    "    elif 9000 <= occ <= 9750: return 25\n",
    "    elif 9800 <= occ <= 9830: return 26\n",
    "    elif 9920: return 0\n",
    "    else: return 0\n",
    "    \n",
    "workers = workers.assign(OCC_2010_GROUP = workers.apply(occ_2010_group, axis=1)) "
   ]
  },
  {
   "cell_type": "code",
   "execution_count": 4,
   "metadata": {
    "collapsed": true
   },
   "outputs": [],
   "source": [
    "def hispanic_origin(hispanic):\n",
    "    if math.isnan(hispanic):\n",
    "        return False\n",
    "    elif 100 <= hispanic < 900:\n",
    "        return True\n",
    "    else: \n",
    "        return False\n",
    "\n",
    "def race(row):\n",
    "    hispanic = hispanic_origin( row['HISPAN'] )\n",
    "    # non-hispanic white\n",
    "    if row['RACE'] == 100 and not hispanic: return 'White'\n",
    "    # non-hispanic black\n",
    "    elif row['RACE'] == 200 and not hispanic: return 'Black'\n",
    "    # non-hispanic asian or pacific islander\n",
    "    elif (650 <= row['RACE'] <= 652) and not hispanic: return 'API'\n",
    "    # # asian or pacific islander\n",
    "    # elif (650 <= row['RACE'] <= 652): return 'API'\n",
    "    # hispanic\n",
    "    elif hispanic: return 'Latino'\n",
    "    # multiracial/other\n",
    "    else: return 'Other'\n",
    "\n",
    "workers = workers.assign(RACE2 = workers.apply(race, axis=1))"
   ]
  },
  {
   "cell_type": "code",
   "execution_count": 5,
   "metadata": {
    "collapsed": true
   },
   "outputs": [],
   "source": [
    "def race_sex(row):\n",
    "    if row['SEX'] == 1:\n",
    "        sex = 'Men'\n",
    "    elif row['SEX'] == 2:\n",
    "        sex = 'Women'\n",
    "    else:\n",
    "        sex = 'None'\n",
    "    return ' '.join([row['RACE2'], sex])\n",
    "workers = workers.assign(RACE_SEX = workers.apply(race_sex, axis=1))"
   ]
  },
  {
   "cell_type": "code",
   "execution_count": 6,
   "metadata": {
    "collapsed": true
   },
   "outputs": [],
   "source": [
    "def immigrant(row):\n",
    "    if math.isnan( row['CITIZEN']): return False\n",
    "    elif 2 <= row['CITIZEN'] <= 3: return True\n",
    "    else: return False\n",
    "workers = workers.assign(IMMIGRANT = workers.apply(immigrant, axis=1))"
   ]
  },
  {
   "cell_type": "code",
   "execution_count": 7,
   "metadata": {
    "collapsed": true
   },
   "outputs": [],
   "source": [
    "def income_2015(row):\n",
    "    income = row['INCWAGE']\n",
    "    cpi = row['CPI99']\n",
    "    income_1999 = income * cpi\n",
    "    # https://cps.ipums.org/cps/cpi99.shtml\n",
    "    return income_1999 * 1.430\n",
    "workers = workers.assign(INCOME_2015 = workers.apply(income_2015, axis=1) )"
   ]
  },
  {
   "cell_type": "code",
   "execution_count": 8,
   "metadata": {
    "collapsed": true
   },
   "outputs": [],
   "source": [
    "def college(row):\n",
    "    educ = row['EDUC']\n",
    "    if educ == 999 or educ <= 73:\n",
    "        # no college\n",
    "        return 'N'\n",
    "    else: \n",
    "        # some college or degrees\n",
    "        return 'C'\n",
    "    \n",
    "workers = workers.assign(COLLEGE = workers.apply(college, axis=1) )    "
   ]
  },
  {
   "cell_type": "code",
   "execution_count": 9,
   "metadata": {
    "collapsed": true
   },
   "outputs": [],
   "source": [
    "calc = wc.Calculator('WTSUPP')\n",
    "\n",
    "quintiles_over_time = pd.DataFrame()\n",
    "for n in range(4):\n",
    "    quintile = n + 1\n",
    "    quintile_key = \"quintile_%s\" % (quintile)\n",
    "    quintiles_over_time[quintile_key] = calc.quantile(workers.groupby('YEAR'), 'INCOME_2015', 0.2 * quintile)\n",
    "\n",
    "# assign quintiles\n",
    "def quintile(row):\n",
    "    year = row['YEAR']\n",
    "    income = row['INCOME_2015']\n",
    "    q1 = quintiles_over_time['quintile_1'][year]\n",
    "    q2 = quintiles_over_time['quintile_2'][year]\n",
    "    q3 = quintiles_over_time['quintile_3'][year]\n",
    "    q4 = quintiles_over_time['quintile_4'][year]\n",
    "    \n",
    "    if 0 < income <= q1:\n",
    "        return 1\n",
    "    elif q1 < income <= q2:\n",
    "        return 2\n",
    "    elif q2 < income <= q3:\n",
    "        return 3\n",
    "    elif q3 < income <= q4:\n",
    "        return 4\n",
    "    elif income > q4:\n",
    "        return 5\n",
    "    else:\n",
    "        return 0\n",
    "    \n",
    "workers = workers.assign(QUINTILE = workers.apply(quintile, axis=1) )"
   ]
  },
  {
   "cell_type": "code",
   "execution_count": 10,
   "metadata": {
    "collapsed": true
   },
   "outputs": [],
   "source": [
    "quintiles_over_time.to_csv('csv/quintiles_over_time.csv')"
   ]
  },
  {
   "cell_type": "code",
   "execution_count": 11,
   "metadata": {
    "collapsed": true
   },
   "outputs": [],
   "source": [
    "deciles_over_time = pd.DataFrame()\n",
    "for n in range(9):\n",
    "    decile = n + 1\n",
    "    decile_key = \"decile_%s\" % (decile)\n",
    "    deciles_over_time[decile_key] = calc.quantile(workers.groupby('YEAR'), 'INCOME_2015', 0.1 * decile)"
   ]
  },
  {
   "cell_type": "code",
   "execution_count": 12,
   "metadata": {
    "collapsed": true
   },
   "outputs": [],
   "source": [
    "# assign deciles\n",
    "def decile(row):\n",
    "    year = row['YEAR']\n",
    "    income = row['INCOME_2015']\n",
    "    q1 = deciles_over_time['decile_1'][year]\n",
    "    q2 = deciles_over_time['decile_2'][year]\n",
    "    q3 = deciles_over_time['decile_3'][year]\n",
    "    q4 = deciles_over_time['decile_4'][year]\n",
    "    q5 = deciles_over_time['decile_5'][year]\n",
    "    q6 = deciles_over_time['decile_6'][year]\n",
    "    q7 = deciles_over_time['decile_7'][year]\n",
    "    q8 = deciles_over_time['decile_8'][year]\n",
    "    q9 = deciles_over_time['decile_9'][year]\n",
    "    \n",
    "    if 0 < income <= q1:\n",
    "        return 1\n",
    "    elif q1 < income <= q2:\n",
    "        return 2\n",
    "    elif q2 < income <= q3:\n",
    "        return 3\n",
    "    elif q3 < income <= q4:\n",
    "        return 4\n",
    "    elif q4 < income <= q5:\n",
    "        return 5\n",
    "    elif q5 < income <= q6:\n",
    "        return 6\n",
    "    elif q6 < income <= q7:\n",
    "        return 7\n",
    "    elif q7 < income <= q8:\n",
    "        return 8\n",
    "    elif q8 < income <= q9:\n",
    "        return 9\n",
    "    elif income > q9:\n",
    "        return 10\n",
    "    else:\n",
    "        return 0\n",
    "    \n",
    "workers = workers.assign(DECILE = workers.apply(decile, axis=1) )"
   ]
  },
  {
   "cell_type": "code",
   "execution_count": 13,
   "metadata": {
    "collapsed": true
   },
   "outputs": [],
   "source": [
    "deciles_over_time.to_csv('csv/deciles_over_time.csv')"
   ]
  },
  {
   "cell_type": "code",
   "execution_count": 14,
   "metadata": {
    "collapsed": true
   },
   "outputs": [],
   "source": [
    "workers.to_csv('csv/workers.csv', index=False)"
   ]
  }
 ],
 "metadata": {
  "kernelspec": {
   "display_name": "Python 3",
   "language": "python",
   "name": "python3"
  },
  "language_info": {
   "codemirror_mode": {
    "name": "ipython",
    "version": 3
   },
   "file_extension": ".py",
   "mimetype": "text/x-python",
   "name": "python",
   "nbconvert_exporter": "python",
   "pygments_lexer": "ipython3",
   "version": "3.6.1"
  }
 },
 "nbformat": 4,
 "nbformat_minor": 2
}
